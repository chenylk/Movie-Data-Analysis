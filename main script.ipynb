{
 "cells": [
  {
   "cell_type": "code",
   "execution_count": 107,
   "metadata": {},
   "outputs": [],
   "source": [
    "from pyspark.sql import SparkSession\n",
    "import os\n",
    "import sys\n",
    "#from config import API_KEY\n",
    "from datetime import datetime, timedelta\n",
    "import requests\n",
    "from pyspark.sql.types import StructType, StructField, StringType, FloatType, TimestampType, DateType, DoubleType, IntegerType\n",
    "import pandas as pd\n",
    "from pyspark.sql import Row\n",
    "from pyspark.sql.window import Window\n",
    "from pyspark.sql.functions import dense_rank, col, rank, avg, round, count, countDistinct, udf, when, lower, row_number, regexp_extract\n",
    "from pyspark.sql import functions as F\n",
    "import sqlite3\n",
    "from pyspark.sql.functions import date_format"
   ]
  },
  {
   "cell_type": "code",
   "execution_count": 3,
   "metadata": {},
   "outputs": [
    {
     "name": "stdout",
     "output_type": "stream",
     "text": [
      "JAVA_HOME: C:\\Program Files\\Java\\jdk-1.8\n",
      "PATH: c:\\Users\\lucas\\anaconda3\\envs\\pyspark_env;C:\\Users\\lucas\\anaconda3\\envs\\pyspark_env;C:\\Users\\lucas\\anaconda3\\envs\\pyspark_env\\Library\\mingw-w64\\bin;C:\\Users\\lucas\\anaconda3\\envs\\pyspark_env\\Library\\usr\\bin;C:\\Users\\lucas\\anaconda3\\envs\\pyspark_env\\Library\\bin;C:\\Users\\lucas\\anaconda3\\envs\\pyspark_env\\Scripts;C:\\Users\\lucas\\anaconda3\\envs\\pyspark_env\\bin;C:\\Users\\lucas\\anaconda3\\condabin;C:\\Users\\lucas\\anaconda3;C:\\Program Files (x86)\\Common Files\\Oracle\\Java\\java8path;C:\\Program Files (x86)\\Common Files\\Oracle\\Java\\javapath;C:\\Program Files\\NVIDIA GPU Computing Toolkit\\CUDA\\v11.8\\libnvvp;C:\\Program Files\\NVIDIA GPU Computing Toolkit\\CUDA\\v11.8\\bin;C:\\Program Files\\NVIDIA GPU Computing Toolkit\\CUDA\\v12.1\\bin;C:\\Program Files\\NVIDIA GPU Computing Toolkit\\CUDA\\v12.1\\libnvvp;C:\\Program Files\\NVIDIA GPU Computing Toolkit\\CUDA\\v12.6\\bin;C:\\Program Files\\NVIDIA GPU Computing Toolkit\\CUDA\\v12.6\\libnvvp;C:\\Program Files\\Rockwell Software\\RSCommon;C:\\Windows\\system32;C:\\Windows;C:\\Windows\\System32\\Wbem;C:\\Windows\\System32\\WindowsPowerShell\\v1.0;C:\\Windows\\System32\\OpenSSH;C:\\Program Files (x86)\\NVIDIA Corporation\\PhysX\\Common;C:\\Program Files\\NVIDIA Corporation\\NVIDIA NvDLISR;C:\\Program Files\\Git\\cmd;C:\\Program Files\\MongoDB\\Server\\4.4\\bin;C:\\Program Files\\dotnet;C:\\Program Files\\PuTTY;C:\\Program Files\\Amazon\\AWSCLIV2;C:\\Program Files\\Microsoft SQL Server\\Client SDK\\ODBC\\130\\Tools\\Binn;C:\\Program Files (x86)\\Microsoft SQL Server\\140\\Tools\\Binn;C:\\Program Files\\Microsoft SQL Server\\140\\Tools\\Binn;C:\\Program Files\\Microsoft SQL Server\\140\\DTS\\Binn;C:\\WINDOWS\\system32;C:\\WINDOWS;C:\\WINDOWS\\System32\\Wbem;C:\\WINDOWS\\System32\\WindowsPowerShell\\v1.0;C:\\WINDOWS\\System32\\OpenSSH;C:\\Program Files\\Docker\\Docker\\resources\\bin;C:\\Program Files\\MATLAB\\R2023a\\bin;C:\\Program Files\\Microsoft SQL Server\\150\\Tools\\Binn;C:\\Program Files\\Microsoft SQL Server\\Client SDK\\ODBC\\170\\Tools\\Binn;C:\\Program Files\\NVIDIA Corporation\\Nsight Compute 2023.1.1;C:\\Program Files\\Java\\jdk-1.8\\bin;C:\\Users\\lucas\\AppData\\Roaming\\TinyTeX\\bin\\win32;C:\\Program Files\\MySQL\\MySQL Shell 8.0\\bin;C:\\Users\\lucas\\AppData\\Local\\Microsoft\\WindowsApps;C:\\Users\\lucas\\AppData\\Local\\Programs\\Microsoft VS Code\\bin;C:\\Users\\lucas\\.dotnet\\tools;C:\\Users\\lucas\\AppData\\Local\\Programs\\MiKTeX\\miktex\\bin\\x64;C:\\Program Files\\NVIDIA GPU Computing Toolkit\\CUDA\\v11.8\\libnvvp;C:\\Program Files\\NVIDIA GPU Computing Toolkit\\CUDA\\v11.8\\bin;.\n",
      "JAVA_HOME: C:\\Program Files\\Java\\jdk-1.8\n"
     ]
    }
   ],
   "source": [
    "print(f\"JAVA_HOME: {os.environ.get('JAVA_HOME')}\")\n",
    "print(f\"PATH: {os.environ.get('PATH')}\")\n",
    "os.environ['JAVA_HOME'] = r'C:\\Program Files\\Java\\jdk-1.8'\n",
    "print(f\"JAVA_HOME: {os.environ.get('JAVA_HOME')}\")\n",
    "\n",
    "#os.environ[\"PYSPARK_PYTHON\"] = r\"C:\\Users\\lucas\\anaconda3\\python.exe\"\n",
    "#os.environ[\"PYSPARK_DRIVER_PYTHON\"] = r\"C:\\Users\\lucas\\anaconda3\\python.exe\""
   ]
  },
  {
   "cell_type": "code",
   "execution_count": 4,
   "metadata": {},
   "outputs": [],
   "source": [
    "spark = SparkSession.builder \\\n",
    "    .appName(\"movieapp\") \\\n",
    "    .getOrCreate()"
   ]
  },
  {
   "cell_type": "code",
   "execution_count": 5,
   "metadata": {},
   "outputs": [],
   "source": [
    "tag_df = spark.read.csv(\"tag.csv\", header=True)"
   ]
  },
  {
   "cell_type": "code",
   "execution_count": 8,
   "metadata": {},
   "outputs": [
    {
     "name": "stdout",
     "output_type": "stream",
     "text": [
      "+------+-------+-----------------+-------------------+\n",
      "|userId|movieId|              tag|          timestamp|\n",
      "+------+-------+-----------------+-------------------+\n",
      "|    18|   4141|      Mark Waters|2009-04-24 18:19:40|\n",
      "|    65|    208|        dark hero|2013-05-10 01:41:18|\n",
      "|    65|    353|        dark hero|2013-05-10 01:41:19|\n",
      "|    65|    521|    noir thriller|2013-05-10 01:39:43|\n",
      "|    65|    592|        dark hero|2013-05-10 01:41:18|\n",
      "|    65|    668|        bollywood|2013-05-10 01:37:56|\n",
      "|    65|    898| screwball comedy|2013-05-10 01:42:40|\n",
      "|    65|   1248|    noir thriller|2013-05-10 01:39:43|\n",
      "|    65|   1391|             mars|2013-05-10 01:40:55|\n",
      "|    65|   1617|         neo-noir|2013-05-10 01:43:37|\n",
      "|    65|   1694|            jesus|2013-05-10 01:38:45|\n",
      "|    65|   1783|    noir thriller|2013-05-10 01:39:43|\n",
      "|    65|   2022|            jesus|2013-05-10 01:38:45|\n",
      "|    65|   2193|           dragon|2013-05-10 02:01:54|\n",
      "|    65|   2353|conspiracy theory|2013-05-10 02:01:06|\n",
      "|    65|   2662|             mars|2013-05-10 01:40:55|\n",
      "|    65|   2726|    noir thriller|2013-05-10 01:39:43|\n",
      "|    65|   2840|            jesus|2013-05-10 01:38:45|\n",
      "|    65|   3052|            jesus|2013-05-10 01:38:46|\n",
      "|    65|   5135|        bollywood|2013-05-10 01:37:56|\n",
      "+------+-------+-----------------+-------------------+\n",
      "only showing top 20 rows\n",
      "\n"
     ]
    }
   ],
   "source": [
    "tag_df.show()\n"
   ]
  },
  {
   "cell_type": "code",
   "execution_count": null,
   "metadata": {},
   "outputs": [
    {
     "name": "stdout",
     "output_type": "stream",
     "text": [
      "+------+-------+-----+\n",
      "|userId|movieId|count|\n",
      "+------+-------+-----+\n",
      "|   342|   6953|    3|\n",
      "|   469|    290|    2|\n",
      "|   631|   3578|    4|\n",
      "|  1629|     50|    5|\n",
      "|  1629|    593|    2|\n",
      "|  1662|   4226|    7|\n",
      "|  1741|   5049|    2|\n",
      "|  1741|  49234|    2|\n",
      "|  1741|  53129|    5|\n",
      "|  1741|  96052|    3|\n",
      "|  2193|  55269|    6|\n",
      "|  2274|  55820|    2|\n",
      "|  2299|     34|    5|\n",
      "|  2299|    316|    6|\n",
      "|  2423|  56788|    2|\n",
      "|  2611|     47|    3|\n",
      "|  2751|   4847|    3|\n",
      "|  2931|   2502|    2|\n",
      "|  3576|    910|   10|\n",
      "|  3596|   8833|    2|\n",
      "+------+-------+-----+\n",
      "only showing top 20 rows\n",
      "\n",
      "+------+-------+----------------+-------------------+\n",
      "|userId|movieId|             tag|          timestamp|\n",
      "+------+-------+----------------+-------------------+\n",
      "|   342|     32|post-apocalyptic|2012-01-25 18:02:10|\n",
      "|   342|     32|      psychology|2012-01-25 18:02:15|\n",
      "|   342|     32|     time travel|2012-01-25 18:02:06|\n",
      "|   342|     50| organized crime|2012-01-31 16:58:31|\n",
      "|   342|     50|    twist ending|2012-01-31 16:58:22|\n",
      "|   342|     50|  twists & turns|2012-01-31 16:58:48|\n",
      "|   342|    318|      friendship|2012-09-01 22:59:19|\n",
      "|   342|    318|      masterplan|2015-02-08 19:48:18|\n",
      "|   342|    318|  Morgan Freeman|2012-09-01 22:59:15|\n",
      "|   342|    318|   prison escape|2015-02-08 19:48:18|\n",
      "|   342|    318|      redemption|2015-02-08 19:48:18|\n",
      "|   342|    318|         revenge|2012-09-01 22:59:27|\n",
      "|   342|    356|     bittersweet|2012-09-01 23:00:28|\n",
      "|   342|    356|         classic|2012-09-01 23:00:34|\n",
      "|   342|    356|     vietnam war|2012-09-01 23:00:44|\n",
      "|   342|    608| crime gone awry|2012-01-25 17:47:41|\n",
      "|   342|    750|    black comedy|2013-03-17 23:02:19|\n",
      "|   342|    750|         British|2013-03-17 23:02:09|\n",
      "|   342|    750|        cold war|2013-03-17 23:02:23|\n",
      "|   342|    750|          comedy|2013-03-17 23:02:25|\n",
      "+------+-------+----------------+-------------------+\n",
      "only showing top 20 rows\n",
      "\n"
     ]
    }
   ],
   "source": [
    "#check for duplicates among userid movieid pairing \n",
    "tag_df_dup = tag_df.groupby(['userId','movieId']).count().filter(col('count') > 1)\n",
    "tag_df_dup.show()\n",
    "check = tag_df.filter(col('userId') == 342)\n",
    "check.show()\n",
    "#duplicates look legitimate as different tags from the same user on the same movie\n"
   ]
  },
  {
   "cell_type": "code",
   "execution_count": 49,
   "metadata": {},
   "outputs": [
    {
     "name": "stdout",
     "output_type": "stream",
     "text": [
      "{'userId': 0, 'movieId': 0, 'tag': 0, 'timestamp': 3}\n"
     ]
    }
   ],
   "source": [
    "#check for null values\n",
    "null_counts = {}\n",
    "for column in tag_df.columns:\n",
    "    null_count = tag_df.filter(col(column).isNull()).count()\n",
    "    null_counts[column] = null_count\n",
    "print(null_counts)"
   ]
  },
  {
   "cell_type": "code",
   "execution_count": 69,
   "metadata": {},
   "outputs": [
    {
     "name": "stdout",
     "output_type": "stream",
     "text": [
      "+------+-------+-----------------+-------------------+----------+\n",
      "|userId|movieId|              tag|          timestamp|  tag_date|\n",
      "+------+-------+-----------------+-------------------+----------+\n",
      "|    18|   4141|      Mark Waters|2009-04-24 18:19:40|2009-04-24|\n",
      "|    65|    208|        dark hero|2013-05-10 01:41:18|2013-05-10|\n",
      "|    65|    353|        dark hero|2013-05-10 01:41:19|2013-05-10|\n",
      "|    65|    521|    noir thriller|2013-05-10 01:39:43|2013-05-10|\n",
      "|    65|    592|        dark hero|2013-05-10 01:41:18|2013-05-10|\n",
      "|    65|    668|        bollywood|2013-05-10 01:37:56|2013-05-10|\n",
      "|    65|    898| screwball comedy|2013-05-10 01:42:40|2013-05-10|\n",
      "|    65|   1248|    noir thriller|2013-05-10 01:39:43|2013-05-10|\n",
      "|    65|   1391|             mars|2013-05-10 01:40:55|2013-05-10|\n",
      "|    65|   1617|         neo-noir|2013-05-10 01:43:37|2013-05-10|\n",
      "|    65|   1694|            jesus|2013-05-10 01:38:45|2013-05-10|\n",
      "|    65|   1783|    noir thriller|2013-05-10 01:39:43|2013-05-10|\n",
      "|    65|   2022|            jesus|2013-05-10 01:38:45|2013-05-10|\n",
      "|    65|   2193|           dragon|2013-05-10 02:01:54|2013-05-10|\n",
      "|    65|   2353|conspiracy theory|2013-05-10 02:01:06|2013-05-10|\n",
      "|    65|   2662|             mars|2013-05-10 01:40:55|2013-05-10|\n",
      "|    65|   2726|    noir thriller|2013-05-10 01:39:43|2013-05-10|\n",
      "|    65|   2840|            jesus|2013-05-10 01:38:45|2013-05-10|\n",
      "|    65|   3052|            jesus|2013-05-10 01:38:46|2013-05-10|\n",
      "|    65|   5135|        bollywood|2013-05-10 01:37:56|2013-05-10|\n",
      "+------+-------+-----------------+-------------------+----------+\n",
      "only showing top 20 rows\n",
      "\n"
     ]
    }
   ],
   "source": [
    "#make date column\n",
    "tag_df = tag_df.withColumn('tag_date',date_format('timestamp','yyyy-MM-dd'))\n",
    "tag_df.show()"
   ]
  },
  {
   "cell_type": "code",
   "execution_count": 9,
   "metadata": {},
   "outputs": [],
   "source": [
    "rating_df = spark.read.csv(\"rating.csv\",header=True)"
   ]
  },
  {
   "cell_type": "code",
   "execution_count": 10,
   "metadata": {},
   "outputs": [
    {
     "name": "stdout",
     "output_type": "stream",
     "text": [
      "+------+-------+------+-------------------+\n",
      "|userId|movieId|rating|          timestamp|\n",
      "+------+-------+------+-------------------+\n",
      "|     1|      2|   3.5|2005-04-02 23:53:47|\n",
      "|     1|     29|   3.5|2005-04-02 23:31:16|\n",
      "|     1|     32|   3.5|2005-04-02 23:33:39|\n",
      "|     1|     47|   3.5|2005-04-02 23:32:07|\n",
      "|     1|     50|   3.5|2005-04-02 23:29:40|\n",
      "|     1|    112|   3.5|2004-09-10 03:09:00|\n",
      "|     1|    151|     4|2004-09-10 03:08:54|\n",
      "|     1|    223|     4|2005-04-02 23:46:13|\n",
      "|     1|    253|     4|2005-04-02 23:35:40|\n",
      "|     1|    260|     4|2005-04-02 23:33:46|\n",
      "|     1|    293|     4|2005-04-02 23:31:43|\n",
      "|     1|    296|     4|2005-04-02 23:32:47|\n",
      "|     1|    318|     4|2005-04-02 23:33:18|\n",
      "|     1|    337|   3.5|2004-09-10 03:08:29|\n",
      "|     1|    367|   3.5|2005-04-02 23:53:00|\n",
      "|     1|    541|     4|2005-04-02 23:30:03|\n",
      "|     1|    589|   3.5|2005-04-02 23:45:57|\n",
      "|     1|    593|   3.5|2005-04-02 23:31:01|\n",
      "|     1|    653|     3|2004-09-10 03:08:11|\n",
      "|     1|    919|   3.5|2004-09-10 03:07:01|\n",
      "+------+-------+------+-------------------+\n",
      "only showing top 20 rows\n",
      "\n"
     ]
    }
   ],
   "source": [
    "rating_df.show()"
   ]
  },
  {
   "cell_type": "code",
   "execution_count": null,
   "metadata": {},
   "outputs": [],
   "source": [
    "#check for duplicates\n",
    "rating_df_dup = rating_df.groupby(['userId','movieId']).count().orderBy('count',ascending=False)\n",
    "rating_df_dup.show()\n",
    "#no duplicates"
   ]
  },
  {
   "cell_type": "code",
   "execution_count": 61,
   "metadata": {},
   "outputs": [],
   "source": [
    "#check for nulls\n",
    "null_counts = {}\n",
    "for column in rating_df.columns:\n",
    "    null_count = rating_df.filter(col(column).isNull()).count()\n",
    "    null_counts[column] = null_count"
   ]
  },
  {
   "cell_type": "code",
   "execution_count": 67,
   "metadata": {},
   "outputs": [
    {
     "name": "stdout",
     "output_type": "stream",
     "text": [
      "+------+-------+------+-------------------+-----------+\n",
      "|userId|movieId|rating|          timestamp|rating_date|\n",
      "+------+-------+------+-------------------+-----------+\n",
      "|     1|      2|   3.5|2005-04-02 23:53:47| 2005-04-02|\n",
      "|     1|     29|   3.5|2005-04-02 23:31:16| 2005-04-02|\n",
      "|     1|     32|   3.5|2005-04-02 23:33:39| 2005-04-02|\n",
      "|     1|     47|   3.5|2005-04-02 23:32:07| 2005-04-02|\n",
      "|     1|     50|   3.5|2005-04-02 23:29:40| 2005-04-02|\n",
      "|     1|    112|   3.5|2004-09-10 03:09:00| 2004-09-10|\n",
      "|     1|    151|     4|2004-09-10 03:08:54| 2004-09-10|\n",
      "|     1|    223|     4|2005-04-02 23:46:13| 2005-04-02|\n",
      "|     1|    253|     4|2005-04-02 23:35:40| 2005-04-02|\n",
      "|     1|    260|     4|2005-04-02 23:33:46| 2005-04-02|\n",
      "|     1|    293|     4|2005-04-02 23:31:43| 2005-04-02|\n",
      "|     1|    296|     4|2005-04-02 23:32:47| 2005-04-02|\n",
      "|     1|    318|     4|2005-04-02 23:33:18| 2005-04-02|\n",
      "|     1|    337|   3.5|2004-09-10 03:08:29| 2004-09-10|\n",
      "|     1|    367|   3.5|2005-04-02 23:53:00| 2005-04-02|\n",
      "|     1|    541|     4|2005-04-02 23:30:03| 2005-04-02|\n",
      "|     1|    589|   3.5|2005-04-02 23:45:57| 2005-04-02|\n",
      "|     1|    593|   3.5|2005-04-02 23:31:01| 2005-04-02|\n",
      "|     1|    653|     3|2004-09-10 03:08:11| 2004-09-10|\n",
      "|     1|    919|   3.5|2004-09-10 03:07:01| 2004-09-10|\n",
      "+------+-------+------+-------------------+-----------+\n",
      "only showing top 20 rows\n",
      "\n"
     ]
    }
   ],
   "source": [
    "rating_df = rating_df.withColumn('rating_date',date_format('timestamp','yyy-MM-dd'))\n",
    "rating_df.show()"
   ]
  },
  {
   "cell_type": "code",
   "execution_count": 11,
   "metadata": {},
   "outputs": [],
   "source": [
    "movie_df = spark.read.csv(\"movie.csv\",header=True)"
   ]
  },
  {
   "cell_type": "code",
   "execution_count": 12,
   "metadata": {},
   "outputs": [
    {
     "name": "stdout",
     "output_type": "stream",
     "text": [
      "+-------+--------------------+--------------------+\n",
      "|movieId|               title|              genres|\n",
      "+-------+--------------------+--------------------+\n",
      "|      1|    Toy Story (1995)|Adventure|Animati...|\n",
      "|      2|      Jumanji (1995)|Adventure|Childre...|\n",
      "|      3|Grumpier Old Men ...|      Comedy|Romance|\n",
      "|      4|Waiting to Exhale...|Comedy|Drama|Romance|\n",
      "|      5|Father of the Bri...|              Comedy|\n",
      "|      6|         Heat (1995)|Action|Crime|Thri...|\n",
      "|      7|      Sabrina (1995)|      Comedy|Romance|\n",
      "|      8| Tom and Huck (1995)|  Adventure|Children|\n",
      "|      9| Sudden Death (1995)|              Action|\n",
      "|     10|    GoldenEye (1995)|Action|Adventure|...|\n",
      "|     11|American Presiden...|Comedy|Drama|Romance|\n",
      "|     12|Dracula: Dead and...|       Comedy|Horror|\n",
      "|     13|        Balto (1995)|Adventure|Animati...|\n",
      "|     14|        Nixon (1995)|               Drama|\n",
      "|     15|Cutthroat Island ...|Action|Adventure|...|\n",
      "|     16|       Casino (1995)|         Crime|Drama|\n",
      "|     17|Sense and Sensibi...|       Drama|Romance|\n",
      "|     18|   Four Rooms (1995)|              Comedy|\n",
      "|     19|Ace Ventura: When...|              Comedy|\n",
      "|     20|  Money Train (1995)|Action|Comedy|Cri...|\n",
      "+-------+--------------------+--------------------+\n",
      "only showing top 20 rows\n",
      "\n"
     ]
    }
   ],
   "source": [
    "movie_df.show()"
   ]
  },
  {
   "cell_type": "code",
   "execution_count": 73,
   "metadata": {},
   "outputs": [
    {
     "name": "stdout",
     "output_type": "stream",
     "text": [
      "+-------+-----+\n",
      "|movieId|count|\n",
      "+-------+-----+\n",
      "+-------+-----+\n",
      "\n"
     ]
    }
   ],
   "source": [
    "#check for duplicate movieId\n",
    "movie_df_dup = movie_df.groupby('movieId').count().filter(col('count') > 1)\n",
    "movie_df_dup.show()"
   ]
  },
  {
   "cell_type": "code",
   "execution_count": 74,
   "metadata": {},
   "outputs": [
    {
     "name": "stdout",
     "output_type": "stream",
     "text": [
      "{'movieId': 0, 'title': 0, 'genres': 0}\n"
     ]
    }
   ],
   "source": [
    "#check for null\n",
    "null_counts = {}\n",
    "for column in movie_df.columns:\n",
    "    null_count = movie_df.filter(col(column).isNull()).count()\n",
    "    null_counts[column] = null_count\n",
    "print(null_counts)"
   ]
  },
  {
   "cell_type": "code",
   "execution_count": 14,
   "metadata": {},
   "outputs": [],
   "source": [
    "link_df = spark.read.csv(\"link.csv\",header=True)"
   ]
  },
  {
   "cell_type": "code",
   "execution_count": 15,
   "metadata": {},
   "outputs": [
    {
     "name": "stdout",
     "output_type": "stream",
     "text": [
      "+-------+------+------+\n",
      "|movieId|imdbId|tmdbId|\n",
      "+-------+------+------+\n",
      "|      1|114709|   862|\n",
      "|      2|113497|  8844|\n",
      "|      3|113228| 15602|\n",
      "|      4|114885| 31357|\n",
      "|      5|113041| 11862|\n",
      "|      6|113277|   949|\n",
      "|      7|114319| 11860|\n",
      "|      8|112302| 45325|\n",
      "|      9|114576|  9091|\n",
      "|     10|113189|   710|\n",
      "|     11|112346|  9087|\n",
      "|     12|112896| 12110|\n",
      "|     13|112453| 21032|\n",
      "|     14|113987| 10858|\n",
      "|     15|112760|  1408|\n",
      "|     16|112641|   524|\n",
      "|     17|114388|  4584|\n",
      "|     18|113101|     5|\n",
      "|     19|112281|  9273|\n",
      "|     20|113845| 11517|\n",
      "+-------+------+------+\n",
      "only showing top 20 rows\n",
      "\n"
     ]
    }
   ],
   "source": [
    "link_df.show()"
   ]
  },
  {
   "cell_type": "code",
   "execution_count": 75,
   "metadata": {},
   "outputs": [
    {
     "name": "stdout",
     "output_type": "stream",
     "text": [
      "+-------+-----+\n",
      "|movieId|count|\n",
      "+-------+-----+\n",
      "+-------+-----+\n",
      "\n"
     ]
    }
   ],
   "source": [
    "link_df_dup = link_df.groupby('movieId').count().filter(col('count') > 1)\n",
    "link_df_dup.show()"
   ]
  },
  {
   "cell_type": "code",
   "execution_count": 76,
   "metadata": {},
   "outputs": [
    {
     "name": "stdout",
     "output_type": "stream",
     "text": [
      "{'movieId': 0, 'imdbId': 0, 'tmdbId': 252}\n"
     ]
    }
   ],
   "source": [
    "#check for nulls \n",
    "null_counts = {}\n",
    "for column in link_df.columns:\n",
    "    null_count = link_df.filter(col(column).isNull()).count()\n",
    "    null_counts[column] = null_count\n",
    "print(null_counts)"
   ]
  },
  {
   "cell_type": "code",
   "execution_count": 16,
   "metadata": {},
   "outputs": [],
   "source": [
    "genome_tags_df = spark.read.csv(\"genome_tags.csv\",header=True)"
   ]
  },
  {
   "cell_type": "code",
   "execution_count": 17,
   "metadata": {},
   "outputs": [
    {
     "name": "stdout",
     "output_type": "stream",
     "text": [
      "+-----+---------------+\n",
      "|tagId|            tag|\n",
      "+-----+---------------+\n",
      "|    1|            007|\n",
      "|    2|   007 (series)|\n",
      "|    3|   18th century|\n",
      "|    4|          1920s|\n",
      "|    5|          1930s|\n",
      "|    6|          1950s|\n",
      "|    7|          1960s|\n",
      "|    8|          1970s|\n",
      "|    9|          1980s|\n",
      "|   10|   19th century|\n",
      "|   11|             3d|\n",
      "|   12|           70mm|\n",
      "|   13|            80s|\n",
      "|   14|           9/11|\n",
      "|   15|        aardman|\n",
      "|   16|aardman studios|\n",
      "|   17|       abortion|\n",
      "|   18|         absurd|\n",
      "|   19|         action|\n",
      "|   20|  action packed|\n",
      "+-----+---------------+\n",
      "only showing top 20 rows\n",
      "\n"
     ]
    }
   ],
   "source": [
    "genome_tags_df.show()"
   ]
  },
  {
   "cell_type": "code",
   "execution_count": null,
   "metadata": {},
   "outputs": [
    {
     "name": "stdout",
     "output_type": "stream",
     "text": [
      "+-----+-----+\n",
      "|tagId|count|\n",
      "+-----+-----+\n",
      "+-----+-----+\n",
      "\n"
     ]
    }
   ],
   "source": [
    "#check for dups\n",
    "genome_tags_df_dup = genome_tags_df.groupby('tagId').count().filter(col('count')>1)\n",
    "genome_tags_df_dup.show()"
   ]
  },
  {
   "cell_type": "code",
   "execution_count": 78,
   "metadata": {},
   "outputs": [
    {
     "name": "stdout",
     "output_type": "stream",
     "text": [
      "{'tagId': 0, 'tag': 0}\n"
     ]
    }
   ],
   "source": [
    "null_counts = {}\n",
    "for column in genome_tags_df.columns:\n",
    "    null_count = genome_tags_df.filter(col(column).isNull()).count()\n",
    "    null_counts[column] = null_count\n",
    "print(null_counts)"
   ]
  },
  {
   "cell_type": "code",
   "execution_count": 18,
   "metadata": {},
   "outputs": [],
   "source": [
    "genome_scores_df = spark.read.csv(\"genome_scores.csv\",header=True)"
   ]
  },
  {
   "cell_type": "code",
   "execution_count": 19,
   "metadata": {},
   "outputs": [
    {
     "name": "stdout",
     "output_type": "stream",
     "text": [
      "+-------+-----+-------------------+\n",
      "|movieId|tagId|          relevance|\n",
      "+-------+-----+-------------------+\n",
      "|      1|    1|              0.025|\n",
      "|      1|    2|              0.025|\n",
      "|      1|    3|            0.05775|\n",
      "|      1|    4|            0.09675|\n",
      "|      1|    5|            0.14675|\n",
      "|      1|    6|              0.217|\n",
      "|      1|    7|              0.067|\n",
      "|      1|    8|            0.26275|\n",
      "|      1|    9|              0.262|\n",
      "|      1|   10|              0.032|\n",
      "|      1|   11|              0.577|\n",
      "|      1|   12|            0.11625|\n",
      "|      1|   13|              0.188|\n",
      "|      1|   14|0.00800000000000001|\n",
      "|      1|   15|            0.03675|\n",
      "|      1|   16|            0.28175|\n",
      "|      1|   17|0.00700000000000001|\n",
      "|      1|   18|             0.1105|\n",
      "|      1|   19|             0.6705|\n",
      "|      1|   20|             0.1845|\n",
      "+-------+-----+-------------------+\n",
      "only showing top 20 rows\n",
      "\n"
     ]
    }
   ],
   "source": [
    "genome_scores_df.show()"
   ]
  },
  {
   "cell_type": "code",
   "execution_count": 87,
   "metadata": {},
   "outputs": [
    {
     "data": {
      "text/plain": [
       "465564"
      ]
     },
     "execution_count": 87,
     "metadata": {},
     "output_type": "execute_result"
    }
   ],
   "source": [
    "top_tag_df.count()"
   ]
  },
  {
   "cell_type": "code",
   "execution_count": 91,
   "metadata": {},
   "outputs": [
    {
     "data": {
      "text/plain": [
       "465564"
      ]
     },
     "execution_count": 91,
     "metadata": {},
     "output_type": "execute_result"
    }
   ],
   "source": [
    "top_tag_df.count()"
   ]
  },
  {
   "cell_type": "code",
   "execution_count": 90,
   "metadata": {},
   "outputs": [
    {
     "name": "stdout",
     "output_type": "stream",
     "text": [
      "+------+-------+--------------------+-----+---------+\n",
      "|userId|movieId|                 tag|tagId|relevance|\n",
      "+------+-------+--------------------+-----+---------+\n",
      "| 78917|   1235|         Cat Stevens| NULL|     NULL|\n",
      "|131900|  80860|real life situations| NULL|     NULL|\n",
      "| 78917|   1285|        black comedy|  141|  0.86375|\n",
      "|    65|   5135|           bollywood|  149|  0.94875|\n",
      "|    65|   1694|               jesus|  579|  0.94125|\n",
      "|    65|   2840|               jesus|  579|  0.97175|\n",
      "|    65|   3052|               jesus|  579|  0.96325|\n",
      "|    65|   2726|       noir thriller|  712|   0.9945|\n",
      "| 22963|   4878|             surreal|  995|  0.93325|\n",
      "| 78917|   1227|     Ennio Morricone| NULL|     NULL|\n",
      "|110507|   3148|           Seen 2009| NULL|     NULL|\n",
      "|110507|   3207|           Seen 2013| NULL|     NULL|\n",
      "|110507|   3379|           seen 2012| NULL|     NULL|\n",
      "|110507|   3379| seen more than once| NULL|     NULL|\n",
      "| 22963|   4019|       inspirational|  548|  0.89125|\n",
      "|    65|   1248|       noir thriller|  712|   0.9965|\n",
      "|131900|  85414|   parallel universe|  765|   0.9215|\n",
      "| 78917|   1235|              quirky|  829|  0.87875|\n",
      "| 22963|   5378|              sci-fi|  887|    0.933|\n",
      "| 53407|  27706|           Adventure| NULL|     NULL|\n",
      "+------+-------+--------------------+-----+---------+\n",
      "only showing top 20 rows\n",
      "\n"
     ]
    }
   ],
   "source": [
    "#since there can be multiple tags for each movie by a user we will only take the most relevant tag so that we can remove duplication on final table joins\n",
    "top_tag_df = tag_df.join(genome_tags_df,tag_df.tag == genome_tags_df.tag,how='left').select(tag_df.userId,tag_df.movieId,tag_df.tag,genome_tags_df.tagId)\n",
    "top_tag_df = top_tag_df.join(genome_scores_df,(top_tag_df.tagId == genome_scores_df.tagId) & (top_tag_df.movieId == genome_scores_df.movieId),how='left').select(top_tag_df['*'],genome_scores_df.relevance)\n",
    "top_tag_df.show()"
   ]
  },
  {
   "cell_type": "code",
   "execution_count": 97,
   "metadata": {},
   "outputs": [
    {
     "name": "stdout",
     "output_type": "stream",
     "text": [
      "+------+-------+--------------------+-----+---------+----------+\n",
      "|userId|movieId|                 tag|tagId|relevance|row_number|\n",
      "+------+-------+--------------------+-----+---------+----------+\n",
      "|100144|    172|           cyberpunk|  280|  0.99975|         1|\n",
      "|100144|  44191|    based on a comic|  108|    0.973|         1|\n",
      "| 10017|   2371|               silly|  919|    0.634|         1|\n",
      "|100366| 102066|         Dog killing| NULL|     NULL|         1|\n",
      "|100366| 103483|       child killing| NULL|     NULL|         1|\n",
      "|100366|    150|               tense| 1020|   0.9655|         1|\n",
      "|100366|   2700|  creative profanity| NULL|     NULL|         1|\n",
      "|100366|   2787|           anthology| NULL|     NULL|         1|\n",
      "|100366|    393|based on a video ...|  112|  0.99975|         1|\n",
      "|100366|  44974|             torture| 1034|  0.88625|         1|\n",
      "|100366|   5585|              trolls| NULL|     NULL|         1|\n",
      "|100366|  60766|           uplifting| NULL|     NULL|         1|\n",
      "|100366|   6214|                rape|  838|  0.99425|         1|\n",
      "|100366|  68157|               tense| 1020|   0.9255|         1|\n",
      "|100366|  68952|         cat killing| NULL|     NULL|         1|\n",
      "|100366|  85259|          short film| NULL|     NULL|         1|\n",
      "|100366|  88688|           anthology| NULL|     NULL|         1|\n",
      "|100366|   8906|                rape|  838|   0.9235|         1|\n",
      "|100366|  90624|       child killing| NULL|     NULL|         1|\n",
      "|100366|  92391|       found footage| NULL|     NULL|         1|\n",
      "+------+-------+--------------------+-----+---------+----------+\n",
      "only showing top 20 rows\n",
      "\n"
     ]
    }
   ],
   "source": [
    "#window function continuation\n",
    "window_spec = Window.partitionBy(['userId','movieId']).orderBy(col('relevance').desc())\n",
    "top_tag_ranked_df = top_tag_df.withColumn('row_number',row_number().over(window_spec)).filter(col('row_number') == 1)\n",
    "top_tag_ranked_df.show()"
   ]
  },
  {
   "cell_type": "code",
   "execution_count": 98,
   "metadata": {},
   "outputs": [],
   "source": [
    "df1 = rating_df.join(top_tag_ranked_df, (rating_df['userId'] == top_tag_ranked_df['userId']) & (rating_df['movieId'] == top_tag_ranked_df['movieId']),how='left').select(rating_df['userId'],rating_df['movieId'],rating_df.rating,top_tag_ranked_df['tag'])"
   ]
  },
  {
   "cell_type": "code",
   "execution_count": 101,
   "metadata": {},
   "outputs": [
    {
     "name": "stdout",
     "output_type": "stream",
     "text": [
      "+------+-------+------+----+\n",
      "|userId|movieId|rating| tag|\n",
      "+------+-------+------+----+\n",
      "|     1|    919|   3.5|NULL|\n",
      "|105081|   4306|     3|NULL|\n",
      "|116465|   3100|     4|NULL|\n",
      "| 11731|   3257|     2|NULL|\n",
      "| 11731|  58559|     1|NULL|\n",
      "| 11732|      1|     4|NULL|\n",
      "|127936|   2448|     3|NULL|\n",
      "|127936|   4718|     3|NULL|\n",
      "| 23312|   1484|     4|NULL|\n",
      "| 23312|   2111|     1|NULL|\n",
      "| 35001|   3354|     2|NULL|\n",
      "| 35001|   3676|     3|NULL|\n",
      "| 46736|   1204|     4|NULL|\n",
      "| 58552|  48780|     5|NULL|\n",
      "| 58552|  55765|   2.5|NULL|\n",
      "| 70324|   2738|     3|NULL|\n",
      "| 81744|   1285|     2|NULL|\n",
      "| 81744|   1295|     4|NULL|\n",
      "| 81744|    357|     3|NULL|\n",
      "| 81744|    365|     5|NULL|\n",
      "+------+-------+------+----+\n",
      "only showing top 20 rows\n",
      "\n"
     ]
    }
   ],
   "source": [
    "df1.show()"
   ]
  },
  {
   "cell_type": "code",
   "execution_count": null,
   "metadata": {},
   "outputs": [],
   "source": [
    "#filtered_df1 = df1.filter(df1['tag'].isNotNull())"
   ]
  },
  {
   "cell_type": "code",
   "execution_count": 28,
   "metadata": {},
   "outputs": [],
   "source": [
    "#filtered_df1.show()"
   ]
  },
  {
   "cell_type": "code",
   "execution_count": 104,
   "metadata": {},
   "outputs": [],
   "source": [
    "df2 = df1.join(movie_df,df1['movieId'] == movie_df['movieId'], how='left').select(df1['userId'],df1.movieId,df1.rating,df1.tag,movie_df.title,movie_df.genres)"
   ]
  },
  {
   "cell_type": "code",
   "execution_count": 106,
   "metadata": {},
   "outputs": [
    {
     "name": "stdout",
     "output_type": "stream",
     "text": [
      "+------+-------+------+----+--------------------+--------------------+\n",
      "|userId|movieId|rating| tag|               title|              genres|\n",
      "+------+-------+------+----+--------------------+--------------------+\n",
      "|     1|    919|   3.5|NULL|Wizard of Oz, The...|Adventure|Childre...|\n",
      "|105081|   4306|     3|NULL|        Shrek (2001)|Adventure|Animati...|\n",
      "|116465|   3100|     4|NULL|River Runs Throug...|               Drama|\n",
      "| 11731|   3257|     2|NULL|Bodyguard, The (1...|Drama|Romance|Thr...|\n",
      "| 11731|  58559|     1|NULL|Dark Knight, The ...|Action|Crime|Dram...|\n",
      "| 11732|      1|     4|NULL|    Toy Story (1995)|Adventure|Animati...|\n",
      "|127936|   2448|     3|NULL|        Virus (1999)|       Horror|Sci-Fi|\n",
      "|127936|   4718|     3|NULL|American Pie 2 (2...|              Comedy|\n",
      "| 23312|   1484|     4|NULL|Daytrippers, The ...|Comedy|Drama|Myst...|\n",
      "| 23312|   2111|     1|NULL|Man with Two Brai...|              Comedy|\n",
      "| 35001|   3354|     2|NULL|Mission to Mars (...|              Sci-Fi|\n",
      "| 35001|   3676|     3|NULL|   Eraserhead (1977)|        Drama|Horror|\n",
      "| 46736|   1204|     4|NULL|Lawrence of Arabi...| Adventure|Drama|War|\n",
      "| 58552|  48780|     5|NULL|Prestige, The (2006)|Drama|Mystery|Sci...|\n",
      "| 58552|  55765|   2.5|NULL|American Gangster...|Crime|Drama|Thriller|\n",
      "| 70324|   2738|     3|NULL|Crimes of the Hea...|        Comedy|Drama|\n",
      "| 81744|   1285|     2|NULL|     Heathers (1989)|              Comedy|\n",
      "| 81744|   1295|     4|NULL|Unbearable Lightn...|               Drama|\n",
      "| 81744|    357|     3|NULL|Four Weddings and...|      Comedy|Romance|\n",
      "| 81744|    365|     5|NULL|Little Buddha (1993)|               Drama|\n",
      "+------+-------+------+----+--------------------+--------------------+\n",
      "only showing top 20 rows\n",
      "\n"
     ]
    }
   ],
   "source": [
    "df2.show()"
   ]
  },
  {
   "cell_type": "code",
   "execution_count": 108,
   "metadata": {},
   "outputs": [],
   "source": [
    "#extract year from the title\n",
    "pattern = r\"\\((\\d{4})\\)\"\n",
    "df2 = df2.withColumn('year',regexp_extract('title',pattern,1))"
   ]
  },
  {
   "cell_type": "code",
   "execution_count": 109,
   "metadata": {},
   "outputs": [
    {
     "name": "stdout",
     "output_type": "stream",
     "text": [
      "+------+-------+------+----+--------------------+--------------------+----+\n",
      "|userId|movieId|rating| tag|               title|              genres|year|\n",
      "+------+-------+------+----+--------------------+--------------------+----+\n",
      "|     1|    919|   3.5|NULL|Wizard of Oz, The...|Adventure|Childre...|1939|\n",
      "|105081|   4306|     3|NULL|        Shrek (2001)|Adventure|Animati...|2001|\n",
      "|116465|   3100|     4|NULL|River Runs Throug...|               Drama|1992|\n",
      "| 11731|   3257|     2|NULL|Bodyguard, The (1...|Drama|Romance|Thr...|1992|\n",
      "| 11731|  58559|     1|NULL|Dark Knight, The ...|Action|Crime|Dram...|2008|\n",
      "| 11732|      1|     4|NULL|    Toy Story (1995)|Adventure|Animati...|1995|\n",
      "|127936|   2448|     3|NULL|        Virus (1999)|       Horror|Sci-Fi|1999|\n",
      "|127936|   4718|     3|NULL|American Pie 2 (2...|              Comedy|2001|\n",
      "| 23312|   1484|     4|NULL|Daytrippers, The ...|Comedy|Drama|Myst...|1996|\n",
      "| 23312|   2111|     1|NULL|Man with Two Brai...|              Comedy|1983|\n",
      "| 35001|   3354|     2|NULL|Mission to Mars (...|              Sci-Fi|2000|\n",
      "| 35001|   3676|     3|NULL|   Eraserhead (1977)|        Drama|Horror|1977|\n",
      "| 46736|   1204|     4|NULL|Lawrence of Arabi...| Adventure|Drama|War|1962|\n",
      "| 58552|  48780|     5|NULL|Prestige, The (2006)|Drama|Mystery|Sci...|2006|\n",
      "| 58552|  55765|   2.5|NULL|American Gangster...|Crime|Drama|Thriller|2007|\n",
      "| 70324|   2738|     3|NULL|Crimes of the Hea...|        Comedy|Drama|1986|\n",
      "| 81744|   1285|     2|NULL|     Heathers (1989)|              Comedy|1989|\n",
      "| 81744|   1295|     4|NULL|Unbearable Lightn...|               Drama|1988|\n",
      "| 81744|    357|     3|NULL|Four Weddings and...|      Comedy|Romance|1994|\n",
      "| 81744|    365|     5|NULL|Little Buddha (1993)|               Drama|1993|\n",
      "+------+-------+------+----+--------------------+--------------------+----+\n",
      "only showing top 20 rows\n",
      "\n"
     ]
    }
   ],
   "source": [
    "df2.show()"
   ]
  },
  {
   "cell_type": "code",
   "execution_count": 116,
   "metadata": {},
   "outputs": [],
   "source": [
    "df2 = df2.withColumn(\"genres\",F.split(F.col(\"genres\"),\"\\|\"))"
   ]
  },
  {
   "cell_type": "code",
   "execution_count": null,
   "metadata": {},
   "outputs": [],
   "source": [
    "unique_genres = df2.select(F.explode(F.col(\"genres\")).alias(\"genre\")).distinct().collect()\n"
   ]
  },
  {
   "cell_type": "code",
   "execution_count": 120,
   "metadata": {},
   "outputs": [],
   "source": [
    "unique_genres_list = [row['genre'] for row in unique_genres]"
   ]
  },
  {
   "cell_type": "code",
   "execution_count": 122,
   "metadata": {},
   "outputs": [],
   "source": [
    "for genre in unique_genres_list:\n",
    "    df2 = df2.withColumn(genre,F.when(F.array_contains(F.col(\"genres\"),genre),1).otherwise(0))"
   ]
  },
  {
   "cell_type": "code",
   "execution_count": 124,
   "metadata": {},
   "outputs": [],
   "source": [
    "df2 = df2.drop(\"genres\")"
   ]
  },
  {
   "cell_type": "code",
   "execution_count": 126,
   "metadata": {},
   "outputs": [],
   "source": [
    "#remove year from title\n",
    "pattern = r\"\\s\\(\\d{4}\\)\"\n",
    "df2 = df2.withColumn(\"title\",F.regexp_replace(F.col(\"title\"),pattern,\"\"))"
   ]
  },
  {
   "cell_type": "code",
   "execution_count": 127,
   "metadata": {},
   "outputs": [
    {
     "name": "stdout",
     "output_type": "stream",
     "text": [
      "+------+-------+------+----+--------------------+----+-----+-------+--------+---------+-----+---+-----------+-------+-------+-------+---------+---------+------------------+----+------+-------+------+--------+------+------+\n",
      "|userId|movieId|rating| tag|               title|year|Crime|Romance|Thriller|Adventure|Drama|War|Documentary|Fantasy|Mystery|Musical|Animation|Film-Noir|(no genres listed)|IMAX|Horror|Western|Comedy|Children|Action|Sci-Fi|\n",
      "+------+-------+------+----+--------------------+----+-----+-------+--------+---------+-----+---+-----------+-------+-------+-------+---------+---------+------------------+----+------+-------+------+--------+------+------+\n",
      "|     1|   1201|     3|NULL|Good, the Bad and...|1966|    0|      0|       0|        1|    0|  0|          0|      0|      0|      0|        0|        0|                 0|   0|     0|      1|     0|       0|     1|     0|\n",
      "|     1|   1219|     4|NULL|              Psycho|1960|    1|      0|       0|        0|    0|  0|          0|      0|      0|      0|        0|        0|                 0|   0|     1|      0|     0|       0|     0|     0|\n",
      "|     1|   1240|     4|NULL|     Terminator, The|1984|    0|      0|       1|        0|    0|  0|          0|      0|      0|      0|        0|        0|                 0|   0|     0|      0|     0|       0|     1|     1|\n",
      "|     1|   1249|     4|NULL|Femme Nikita, La ...|1990|    1|      1|       1|        0|    0|  0|          0|      0|      0|      0|        0|        0|                 0|   0|     0|      0|     0|       0|     1|     0|\n",
      "|     1|   1350|   3.5|NULL|           Omen, The|1976|    0|      0|       1|        0|    0|  0|          0|      0|      1|      0|        0|        0|                 0|   0|     1|      0|     0|       0|     0|     0|\n",
      "|     1|   2664|   3.5|NULL|Invasion of the B...|1956|    0|      0|       1|        0|    0|  0|          0|      0|      0|      0|        0|        0|                 0|   0|     1|      0|     0|       0|     0|     1|\n",
      "|     1|   3081|     4|NULL|       Sleepy Hollow|1999|    0|      1|       0|        0|    0|  0|          0|      1|      1|      0|        0|        0|                 0|   0|     1|      0|     0|       0|     0|     0|\n",
      "|     1|  31696|     4|NULL|         Constantine|2005|    0|      0|       1|        0|    0|  0|          0|      1|      0|      0|        0|        0|                 0|   0|     1|      0|     0|       0|     1|     0|\n",
      "|     1|   3489|     4|NULL|                Hook|1991|    0|      0|       0|        1|    0|  0|          0|      1|      0|      0|        0|        0|                 0|   0|     0|      0|     1|       0|     0|     0|\n",
      "|     1|   3996|     4|NULL|Crouching Tiger, ...|2000|    0|      1|       0|        0|    1|  0|          0|      0|      0|      0|        0|        0|                 0|   0|     0|      0|     0|       0|     1|     0|\n",
      "|     1|   3997|   3.5|NULL|  Dungeons & Dragons|2000|    0|      0|       0|        1|    0|  0|          0|      1|      0|      0|        0|        0|                 0|   0|     0|      0|     0|       0|     0|     0|\n",
      "|     1|   4446|   3.5|NULL|Final Fantasy: Th...|2001|    0|      0|       0|        1|    0|  0|          0|      1|      0|      0|        1|        0|                 0|   0|     0|      0|     0|       0|     0|     1|\n",
      "|     1|   4980|   3.5|NULL|Bill & Ted's Bogu...|1991|    0|      0|       0|        1|    0|  0|          0|      1|      0|      0|        0|        0|                 0|   0|     0|      0|     1|       0|     0|     1|\n",
      "|     1|   5039|     4|NULL|        Dragonslayer|1981|    0|      0|       0|        1|    0|  0|          0|      1|      0|      0|        0|        0|                 0|   0|     0|      0|     0|       0|     1|     0|\n",
      "|     1|   7153|     5|NULL|Lord of the Rings...|2003|    0|      0|       0|        1|    1|  0|          0|      1|      0|      0|        0|        0|                 0|   0|     0|      0|     0|       0|     1|     0|\n",
      "|     1|   7247|   3.5|NULL|Chitty Chitty Ban...|1968|    0|      0|       0|        1|    0|  0|          0|      1|      0|      1|        0|        0|                 0|   0|     0|      0|     1|       1|     0|     0|\n",
      "|     1|   7449|   3.5|NULL|             Godsend|2004|    0|      0|       1|        0|    1|  0|          0|      0|      0|      0|        0|        0|                 0|   0|     1|      0|     0|       0|     0|     0|\n",
      "|     1|    919|   3.5|NULL|   Wizard of Oz, The|1939|    0|      0|       0|        1|    0|  0|          0|      1|      0|      1|        0|        0|                 0|   0|     0|      0|     0|       1|     0|     0|\n",
      "|    10|   1210|     4|NULL|Star Wars: Episod...|1983|    0|      0|       0|        1|    0|  0|          0|      0|      0|      0|        0|        0|                 0|   0|     0|      0|     0|       0|     1|     1|\n",
      "|    10|   1387|     5|NULL|                Jaws|1975|    0|      0|       0|        0|    0|  0|          0|      0|      0|      0|        0|        0|                 0|   0|     1|      0|     0|       0|     1|     0|\n",
      "+------+-------+------+----+--------------------+----+-----+-------+--------+---------+-----+---+-----------+-------+-------+-------+---------+---------+------------------+----+------+-------+------+--------+------+------+\n",
      "only showing top 20 rows\n",
      "\n"
     ]
    }
   ],
   "source": [
    "df2.show()"
   ]
  },
  {
   "cell_type": "code",
   "execution_count": 130,
   "metadata": {},
   "outputs": [
    {
     "name": "stdout",
     "output_type": "stream",
     "text": [
      "+--------------------+----------+\n",
      "|               title|avg_rating|\n",
      "+--------------------+----------+\n",
      "|Who Killed Vincen...|       5.0|\n",
      "|          Sierra, La|       5.0|\n",
      "| The Floating Castle|       5.0|\n",
      "|       Boy Meets Boy|       5.0|\n",
      "|            Freeheld|       5.0|\n",
      "|Paying the Price:...|       5.0|\n",
      "|   Lady of Chance, A|       5.0|\n",
      "|            Mutantes|       5.0|\n",
      "|         When I Walk|       5.0|\n",
      "|Bill Hicks: Sane Man|       5.0|\n",
      "|            Giorgino|       5.0|\n",
      "|       Boys (Drenge)|       5.0|\n",
      "|        Al otro lado|       5.0|\n",
      "|Blue Swallow (Che...|       5.0|\n",
      "|       The Encounter|       5.0|\n",
      "|New Rulers of the...|       5.0|\n",
      "|   The Wrecking Crew|       5.0|\n",
      "|Prom Queen: The M...|       5.0|\n",
      "|           Abendland|       5.0|\n",
      "|Peace, Propaganda...|       5.0|\n",
      "+--------------------+----------+\n",
      "only showing top 20 rows\n",
      "\n"
     ]
    }
   ],
   "source": [
    "average_movie_rating = df2.groupby('title').agg(avg('rating').alias('avg_rating')).orderBy('avg_rating',ascending=False)\n",
    "average_movie_rating.show()\n",
    "    "
   ]
  },
  {
   "cell_type": "code",
   "execution_count": null,
   "metadata": {},
   "outputs": [],
   "source": []
  }
 ],
 "metadata": {
  "kernelspec": {
   "display_name": "pyspark_env",
   "language": "python",
   "name": "python3"
  },
  "language_info": {
   "codemirror_mode": {
    "name": "ipython",
    "version": 3
   },
   "file_extension": ".py",
   "mimetype": "text/x-python",
   "name": "python",
   "nbconvert_exporter": "python",
   "pygments_lexer": "ipython3",
   "version": "3.10.15"
  }
 },
 "nbformat": 4,
 "nbformat_minor": 2
}
