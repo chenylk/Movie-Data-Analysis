{
 "cells": [
  {
   "cell_type": "code",
   "execution_count": 63,
   "metadata": {},
   "outputs": [],
   "source": [
    "from pyspark.sql import SparkSession\n",
    "import os\n",
    "import sys\n",
    "#from config import API_KEY\n",
    "from datetime import datetime, timedelta\n",
    "import requests\n",
    "from pyspark.sql.types import StructType, StructField, StringType, FloatType, TimestampType, DateType, DoubleType, IntegerType\n",
    "import pandas as pd\n",
    "from pyspark.sql import Row\n",
    "from pyspark.sql.window import Window\n",
    "from pyspark.sql.functions import dense_rank, col, rank, avg, round, count, countDistinct, udf, when, lower\n",
    "from pyspark.sql import functions as F\n",
    "import sqlite3\n",
    "from pyspark.sql.functions import date_format"
   ]
  },
  {
   "cell_type": "code",
   "execution_count": 3,
   "metadata": {},
   "outputs": [
    {
     "name": "stdout",
     "output_type": "stream",
     "text": [
      "JAVA_HOME: C:\\Program Files\\Java\\jdk-1.8\n",
      "PATH: c:\\Users\\lucas\\anaconda3\\envs\\pyspark_env;C:\\Users\\lucas\\anaconda3\\envs\\pyspark_env;C:\\Users\\lucas\\anaconda3\\envs\\pyspark_env\\Library\\mingw-w64\\bin;C:\\Users\\lucas\\anaconda3\\envs\\pyspark_env\\Library\\usr\\bin;C:\\Users\\lucas\\anaconda3\\envs\\pyspark_env\\Library\\bin;C:\\Users\\lucas\\anaconda3\\envs\\pyspark_env\\Scripts;C:\\Users\\lucas\\anaconda3\\envs\\pyspark_env\\bin;C:\\Users\\lucas\\anaconda3\\condabin;C:\\Users\\lucas\\anaconda3;C:\\Program Files (x86)\\Common Files\\Oracle\\Java\\java8path;C:\\Program Files (x86)\\Common Files\\Oracle\\Java\\javapath;C:\\Program Files\\NVIDIA GPU Computing Toolkit\\CUDA\\v11.8\\libnvvp;C:\\Program Files\\NVIDIA GPU Computing Toolkit\\CUDA\\v11.8\\bin;C:\\Program Files\\NVIDIA GPU Computing Toolkit\\CUDA\\v12.1\\bin;C:\\Program Files\\NVIDIA GPU Computing Toolkit\\CUDA\\v12.1\\libnvvp;C:\\Program Files\\NVIDIA GPU Computing Toolkit\\CUDA\\v12.6\\bin;C:\\Program Files\\NVIDIA GPU Computing Toolkit\\CUDA\\v12.6\\libnvvp;C:\\Program Files\\Rockwell Software\\RSCommon;C:\\Windows\\system32;C:\\Windows;C:\\Windows\\System32\\Wbem;C:\\Windows\\System32\\WindowsPowerShell\\v1.0;C:\\Windows\\System32\\OpenSSH;C:\\Program Files (x86)\\NVIDIA Corporation\\PhysX\\Common;C:\\Program Files\\NVIDIA Corporation\\NVIDIA NvDLISR;C:\\Program Files\\Git\\cmd;C:\\Program Files\\MongoDB\\Server\\4.4\\bin;C:\\Program Files\\dotnet;C:\\Program Files\\PuTTY;C:\\Program Files\\Amazon\\AWSCLIV2;C:\\Program Files\\Microsoft SQL Server\\Client SDK\\ODBC\\130\\Tools\\Binn;C:\\Program Files (x86)\\Microsoft SQL Server\\140\\Tools\\Binn;C:\\Program Files\\Microsoft SQL Server\\140\\Tools\\Binn;C:\\Program Files\\Microsoft SQL Server\\140\\DTS\\Binn;C:\\WINDOWS\\system32;C:\\WINDOWS;C:\\WINDOWS\\System32\\Wbem;C:\\WINDOWS\\System32\\WindowsPowerShell\\v1.0;C:\\WINDOWS\\System32\\OpenSSH;C:\\Program Files\\Docker\\Docker\\resources\\bin;C:\\Program Files\\MATLAB\\R2023a\\bin;C:\\Program Files\\Microsoft SQL Server\\150\\Tools\\Binn;C:\\Program Files\\Microsoft SQL Server\\Client SDK\\ODBC\\170\\Tools\\Binn;C:\\Program Files\\NVIDIA Corporation\\Nsight Compute 2023.1.1;C:\\Program Files\\Java\\jdk-1.8\\bin;C:\\Users\\lucas\\AppData\\Roaming\\TinyTeX\\bin\\win32;C:\\Program Files\\MySQL\\MySQL Shell 8.0\\bin;C:\\Users\\lucas\\AppData\\Local\\Microsoft\\WindowsApps;C:\\Users\\lucas\\AppData\\Local\\Programs\\Microsoft VS Code\\bin;C:\\Users\\lucas\\.dotnet\\tools;C:\\Users\\lucas\\AppData\\Local\\Programs\\MiKTeX\\miktex\\bin\\x64;C:\\Program Files\\NVIDIA GPU Computing Toolkit\\CUDA\\v11.8\\libnvvp;C:\\Program Files\\NVIDIA GPU Computing Toolkit\\CUDA\\v11.8\\bin;.\n",
      "JAVA_HOME: C:\\Program Files\\Java\\jdk-1.8\n"
     ]
    }
   ],
   "source": [
    "print(f\"JAVA_HOME: {os.environ.get('JAVA_HOME')}\")\n",
    "print(f\"PATH: {os.environ.get('PATH')}\")\n",
    "os.environ['JAVA_HOME'] = r'C:\\Program Files\\Java\\jdk-1.8'\n",
    "print(f\"JAVA_HOME: {os.environ.get('JAVA_HOME')}\")\n",
    "\n",
    "#os.environ[\"PYSPARK_PYTHON\"] = r\"C:\\Users\\lucas\\anaconda3\\python.exe\"\n",
    "#os.environ[\"PYSPARK_DRIVER_PYTHON\"] = r\"C:\\Users\\lucas\\anaconda3\\python.exe\""
   ]
  },
  {
   "cell_type": "code",
   "execution_count": 4,
   "metadata": {},
   "outputs": [],
   "source": [
    "spark = SparkSession.builder \\\n",
    "    .appName(\"movieapp\") \\\n",
    "    .getOrCreate()"
   ]
  },
  {
   "cell_type": "code",
   "execution_count": 5,
   "metadata": {},
   "outputs": [],
   "source": [
    "tag_df = spark.read.csv(\"tag.csv\", header=True)"
   ]
  },
  {
   "cell_type": "code",
   "execution_count": 8,
   "metadata": {},
   "outputs": [
    {
     "name": "stdout",
     "output_type": "stream",
     "text": [
      "+------+-------+-----------------+-------------------+\n",
      "|userId|movieId|              tag|          timestamp|\n",
      "+------+-------+-----------------+-------------------+\n",
      "|    18|   4141|      Mark Waters|2009-04-24 18:19:40|\n",
      "|    65|    208|        dark hero|2013-05-10 01:41:18|\n",
      "|    65|    353|        dark hero|2013-05-10 01:41:19|\n",
      "|    65|    521|    noir thriller|2013-05-10 01:39:43|\n",
      "|    65|    592|        dark hero|2013-05-10 01:41:18|\n",
      "|    65|    668|        bollywood|2013-05-10 01:37:56|\n",
      "|    65|    898| screwball comedy|2013-05-10 01:42:40|\n",
      "|    65|   1248|    noir thriller|2013-05-10 01:39:43|\n",
      "|    65|   1391|             mars|2013-05-10 01:40:55|\n",
      "|    65|   1617|         neo-noir|2013-05-10 01:43:37|\n",
      "|    65|   1694|            jesus|2013-05-10 01:38:45|\n",
      "|    65|   1783|    noir thriller|2013-05-10 01:39:43|\n",
      "|    65|   2022|            jesus|2013-05-10 01:38:45|\n",
      "|    65|   2193|           dragon|2013-05-10 02:01:54|\n",
      "|    65|   2353|conspiracy theory|2013-05-10 02:01:06|\n",
      "|    65|   2662|             mars|2013-05-10 01:40:55|\n",
      "|    65|   2726|    noir thriller|2013-05-10 01:39:43|\n",
      "|    65|   2840|            jesus|2013-05-10 01:38:45|\n",
      "|    65|   3052|            jesus|2013-05-10 01:38:46|\n",
      "|    65|   5135|        bollywood|2013-05-10 01:37:56|\n",
      "+------+-------+-----------------+-------------------+\n",
      "only showing top 20 rows\n",
      "\n"
     ]
    }
   ],
   "source": [
    "tag_df.show()\n"
   ]
  },
  {
   "cell_type": "code",
   "execution_count": null,
   "metadata": {},
   "outputs": [
    {
     "name": "stdout",
     "output_type": "stream",
     "text": [
      "+------+-------+-----+\n",
      "|userId|movieId|count|\n",
      "+------+-------+-----+\n",
      "|   342|   6953|    3|\n",
      "|   469|    290|    2|\n",
      "|   631|   3578|    4|\n",
      "|  1629|     50|    5|\n",
      "|  1629|    593|    2|\n",
      "|  1662|   4226|    7|\n",
      "|  1741|   5049|    2|\n",
      "|  1741|  49234|    2|\n",
      "|  1741|  53129|    5|\n",
      "|  1741|  96052|    3|\n",
      "|  2193|  55269|    6|\n",
      "|  2274|  55820|    2|\n",
      "|  2299|     34|    5|\n",
      "|  2299|    316|    6|\n",
      "|  2423|  56788|    2|\n",
      "|  2611|     47|    3|\n",
      "|  2751|   4847|    3|\n",
      "|  2931|   2502|    2|\n",
      "|  3576|    910|   10|\n",
      "|  3596|   8833|    2|\n",
      "+------+-------+-----+\n",
      "only showing top 20 rows\n",
      "\n",
      "+------+-------+----------------+-------------------+\n",
      "|userId|movieId|             tag|          timestamp|\n",
      "+------+-------+----------------+-------------------+\n",
      "|   342|     32|post-apocalyptic|2012-01-25 18:02:10|\n",
      "|   342|     32|      psychology|2012-01-25 18:02:15|\n",
      "|   342|     32|     time travel|2012-01-25 18:02:06|\n",
      "|   342|     50| organized crime|2012-01-31 16:58:31|\n",
      "|   342|     50|    twist ending|2012-01-31 16:58:22|\n",
      "|   342|     50|  twists & turns|2012-01-31 16:58:48|\n",
      "|   342|    318|      friendship|2012-09-01 22:59:19|\n",
      "|   342|    318|      masterplan|2015-02-08 19:48:18|\n",
      "|   342|    318|  Morgan Freeman|2012-09-01 22:59:15|\n",
      "|   342|    318|   prison escape|2015-02-08 19:48:18|\n",
      "|   342|    318|      redemption|2015-02-08 19:48:18|\n",
      "|   342|    318|         revenge|2012-09-01 22:59:27|\n",
      "|   342|    356|     bittersweet|2012-09-01 23:00:28|\n",
      "|   342|    356|         classic|2012-09-01 23:00:34|\n",
      "|   342|    356|     vietnam war|2012-09-01 23:00:44|\n",
      "|   342|    608| crime gone awry|2012-01-25 17:47:41|\n",
      "|   342|    750|    black comedy|2013-03-17 23:02:19|\n",
      "|   342|    750|         British|2013-03-17 23:02:09|\n",
      "|   342|    750|        cold war|2013-03-17 23:02:23|\n",
      "|   342|    750|          comedy|2013-03-17 23:02:25|\n",
      "+------+-------+----------------+-------------------+\n",
      "only showing top 20 rows\n",
      "\n"
     ]
    }
   ],
   "source": [
    "#check for duplicates among userid movieid pairing \n",
    "tag_df_dup = tag_df.groupby(['userId','movieId']).count().filter(col('count') > 1)\n",
    "tag_df_dup.show()\n",
    "check = tag_df.filter(col('userId') == 342)\n",
    "check.show()\n",
    "#duplicates look legitimate as different tags from the same user on the same movie\n"
   ]
  },
  {
   "cell_type": "code",
   "execution_count": 49,
   "metadata": {},
   "outputs": [
    {
     "name": "stdout",
     "output_type": "stream",
     "text": [
      "{'userId': 0, 'movieId': 0, 'tag': 0, 'timestamp': 3}\n"
     ]
    }
   ],
   "source": [
    "#check for null values\n",
    "null_counts = {}\n",
    "for column in tag_df.columns:\n",
    "    null_count = tag_df.filter(col(column).isNull()).count()\n",
    "    null_counts[column] = null_count\n",
    "print(null_counts)"
   ]
  },
  {
   "cell_type": "code",
   "execution_count": 69,
   "metadata": {},
   "outputs": [
    {
     "name": "stdout",
     "output_type": "stream",
     "text": [
      "+------+-------+-----------------+-------------------+----------+\n",
      "|userId|movieId|              tag|          timestamp|  tag_date|\n",
      "+------+-------+-----------------+-------------------+----------+\n",
      "|    18|   4141|      Mark Waters|2009-04-24 18:19:40|2009-04-24|\n",
      "|    65|    208|        dark hero|2013-05-10 01:41:18|2013-05-10|\n",
      "|    65|    353|        dark hero|2013-05-10 01:41:19|2013-05-10|\n",
      "|    65|    521|    noir thriller|2013-05-10 01:39:43|2013-05-10|\n",
      "|    65|    592|        dark hero|2013-05-10 01:41:18|2013-05-10|\n",
      "|    65|    668|        bollywood|2013-05-10 01:37:56|2013-05-10|\n",
      "|    65|    898| screwball comedy|2013-05-10 01:42:40|2013-05-10|\n",
      "|    65|   1248|    noir thriller|2013-05-10 01:39:43|2013-05-10|\n",
      "|    65|   1391|             mars|2013-05-10 01:40:55|2013-05-10|\n",
      "|    65|   1617|         neo-noir|2013-05-10 01:43:37|2013-05-10|\n",
      "|    65|   1694|            jesus|2013-05-10 01:38:45|2013-05-10|\n",
      "|    65|   1783|    noir thriller|2013-05-10 01:39:43|2013-05-10|\n",
      "|    65|   2022|            jesus|2013-05-10 01:38:45|2013-05-10|\n",
      "|    65|   2193|           dragon|2013-05-10 02:01:54|2013-05-10|\n",
      "|    65|   2353|conspiracy theory|2013-05-10 02:01:06|2013-05-10|\n",
      "|    65|   2662|             mars|2013-05-10 01:40:55|2013-05-10|\n",
      "|    65|   2726|    noir thriller|2013-05-10 01:39:43|2013-05-10|\n",
      "|    65|   2840|            jesus|2013-05-10 01:38:45|2013-05-10|\n",
      "|    65|   3052|            jesus|2013-05-10 01:38:46|2013-05-10|\n",
      "|    65|   5135|        bollywood|2013-05-10 01:37:56|2013-05-10|\n",
      "+------+-------+-----------------+-------------------+----------+\n",
      "only showing top 20 rows\n",
      "\n"
     ]
    }
   ],
   "source": [
    "#make date column\n",
    "tag_df = tag_df.withColumn('tag_date',date_format('timestamp','yyyy-MM-dd'))\n",
    "tag_df.show()"
   ]
  },
  {
   "cell_type": "code",
   "execution_count": 9,
   "metadata": {},
   "outputs": [],
   "source": [
    "rating_df = spark.read.csv(\"rating.csv\",header=True)"
   ]
  },
  {
   "cell_type": "code",
   "execution_count": 10,
   "metadata": {},
   "outputs": [
    {
     "name": "stdout",
     "output_type": "stream",
     "text": [
      "+------+-------+------+-------------------+\n",
      "|userId|movieId|rating|          timestamp|\n",
      "+------+-------+------+-------------------+\n",
      "|     1|      2|   3.5|2005-04-02 23:53:47|\n",
      "|     1|     29|   3.5|2005-04-02 23:31:16|\n",
      "|     1|     32|   3.5|2005-04-02 23:33:39|\n",
      "|     1|     47|   3.5|2005-04-02 23:32:07|\n",
      "|     1|     50|   3.5|2005-04-02 23:29:40|\n",
      "|     1|    112|   3.5|2004-09-10 03:09:00|\n",
      "|     1|    151|     4|2004-09-10 03:08:54|\n",
      "|     1|    223|     4|2005-04-02 23:46:13|\n",
      "|     1|    253|     4|2005-04-02 23:35:40|\n",
      "|     1|    260|     4|2005-04-02 23:33:46|\n",
      "|     1|    293|     4|2005-04-02 23:31:43|\n",
      "|     1|    296|     4|2005-04-02 23:32:47|\n",
      "|     1|    318|     4|2005-04-02 23:33:18|\n",
      "|     1|    337|   3.5|2004-09-10 03:08:29|\n",
      "|     1|    367|   3.5|2005-04-02 23:53:00|\n",
      "|     1|    541|     4|2005-04-02 23:30:03|\n",
      "|     1|    589|   3.5|2005-04-02 23:45:57|\n",
      "|     1|    593|   3.5|2005-04-02 23:31:01|\n",
      "|     1|    653|     3|2004-09-10 03:08:11|\n",
      "|     1|    919|   3.5|2004-09-10 03:07:01|\n",
      "+------+-------+------+-------------------+\n",
      "only showing top 20 rows\n",
      "\n"
     ]
    }
   ],
   "source": [
    "rating_df.show()"
   ]
  },
  {
   "cell_type": "code",
   "execution_count": null,
   "metadata": {},
   "outputs": [],
   "source": [
    "#check for duplicates\n",
    "rating_df_dup = rating_df.groupby(['userId','movieId']).count().orderBy('count',ascending=False)\n",
    "rating_df_dup.show()\n",
    "#no duplicates"
   ]
  },
  {
   "cell_type": "code",
   "execution_count": 61,
   "metadata": {},
   "outputs": [],
   "source": [
    "#check for nulls\n",
    "null_counts = {}\n",
    "for column in rating_df.columns:\n",
    "    null_count = rating_df.filter(col(column).isNull()).count()\n",
    "    null_counts[column] = null_count"
   ]
  },
  {
   "cell_type": "code",
   "execution_count": 67,
   "metadata": {},
   "outputs": [
    {
     "name": "stdout",
     "output_type": "stream",
     "text": [
      "+------+-------+------+-------------------+-----------+\n",
      "|userId|movieId|rating|          timestamp|rating_date|\n",
      "+------+-------+------+-------------------+-----------+\n",
      "|     1|      2|   3.5|2005-04-02 23:53:47| 2005-04-02|\n",
      "|     1|     29|   3.5|2005-04-02 23:31:16| 2005-04-02|\n",
      "|     1|     32|   3.5|2005-04-02 23:33:39| 2005-04-02|\n",
      "|     1|     47|   3.5|2005-04-02 23:32:07| 2005-04-02|\n",
      "|     1|     50|   3.5|2005-04-02 23:29:40| 2005-04-02|\n",
      "|     1|    112|   3.5|2004-09-10 03:09:00| 2004-09-10|\n",
      "|     1|    151|     4|2004-09-10 03:08:54| 2004-09-10|\n",
      "|     1|    223|     4|2005-04-02 23:46:13| 2005-04-02|\n",
      "|     1|    253|     4|2005-04-02 23:35:40| 2005-04-02|\n",
      "|     1|    260|     4|2005-04-02 23:33:46| 2005-04-02|\n",
      "|     1|    293|     4|2005-04-02 23:31:43| 2005-04-02|\n",
      "|     1|    296|     4|2005-04-02 23:32:47| 2005-04-02|\n",
      "|     1|    318|     4|2005-04-02 23:33:18| 2005-04-02|\n",
      "|     1|    337|   3.5|2004-09-10 03:08:29| 2004-09-10|\n",
      "|     1|    367|   3.5|2005-04-02 23:53:00| 2005-04-02|\n",
      "|     1|    541|     4|2005-04-02 23:30:03| 2005-04-02|\n",
      "|     1|    589|   3.5|2005-04-02 23:45:57| 2005-04-02|\n",
      "|     1|    593|   3.5|2005-04-02 23:31:01| 2005-04-02|\n",
      "|     1|    653|     3|2004-09-10 03:08:11| 2004-09-10|\n",
      "|     1|    919|   3.5|2004-09-10 03:07:01| 2004-09-10|\n",
      "+------+-------+------+-------------------+-----------+\n",
      "only showing top 20 rows\n",
      "\n"
     ]
    }
   ],
   "source": [
    "rating_df = rating_df.withColumn('rating_date',date_format('timestamp','yyy-MM-dd'))\n",
    "rating_df.show()"
   ]
  },
  {
   "cell_type": "code",
   "execution_count": 11,
   "metadata": {},
   "outputs": [],
   "source": [
    "movie_df = spark.read.csv(\"movie.csv\",header=True)"
   ]
  },
  {
   "cell_type": "code",
   "execution_count": 12,
   "metadata": {},
   "outputs": [
    {
     "name": "stdout",
     "output_type": "stream",
     "text": [
      "+-------+--------------------+--------------------+\n",
      "|movieId|               title|              genres|\n",
      "+-------+--------------------+--------------------+\n",
      "|      1|    Toy Story (1995)|Adventure|Animati...|\n",
      "|      2|      Jumanji (1995)|Adventure|Childre...|\n",
      "|      3|Grumpier Old Men ...|      Comedy|Romance|\n",
      "|      4|Waiting to Exhale...|Comedy|Drama|Romance|\n",
      "|      5|Father of the Bri...|              Comedy|\n",
      "|      6|         Heat (1995)|Action|Crime|Thri...|\n",
      "|      7|      Sabrina (1995)|      Comedy|Romance|\n",
      "|      8| Tom and Huck (1995)|  Adventure|Children|\n",
      "|      9| Sudden Death (1995)|              Action|\n",
      "|     10|    GoldenEye (1995)|Action|Adventure|...|\n",
      "|     11|American Presiden...|Comedy|Drama|Romance|\n",
      "|     12|Dracula: Dead and...|       Comedy|Horror|\n",
      "|     13|        Balto (1995)|Adventure|Animati...|\n",
      "|     14|        Nixon (1995)|               Drama|\n",
      "|     15|Cutthroat Island ...|Action|Adventure|...|\n",
      "|     16|       Casino (1995)|         Crime|Drama|\n",
      "|     17|Sense and Sensibi...|       Drama|Romance|\n",
      "|     18|   Four Rooms (1995)|              Comedy|\n",
      "|     19|Ace Ventura: When...|              Comedy|\n",
      "|     20|  Money Train (1995)|Action|Comedy|Cri...|\n",
      "+-------+--------------------+--------------------+\n",
      "only showing top 20 rows\n",
      "\n"
     ]
    }
   ],
   "source": [
    "movie_df.show()"
   ]
  },
  {
   "cell_type": "code",
   "execution_count": 73,
   "metadata": {},
   "outputs": [
    {
     "name": "stdout",
     "output_type": "stream",
     "text": [
      "+-------+-----+\n",
      "|movieId|count|\n",
      "+-------+-----+\n",
      "+-------+-----+\n",
      "\n"
     ]
    }
   ],
   "source": [
    "#check for duplicate movieId\n",
    "movie_df_dup = movie_df.groupby('movieId').count().filter(col('count') > 1)\n",
    "movie_df_dup.show()"
   ]
  },
  {
   "cell_type": "code",
   "execution_count": 74,
   "metadata": {},
   "outputs": [
    {
     "name": "stdout",
     "output_type": "stream",
     "text": [
      "{'movieId': 0, 'title': 0, 'genres': 0}\n"
     ]
    }
   ],
   "source": [
    "#check for null\n",
    "null_counts = {}\n",
    "for column in movie_df.columns:\n",
    "    null_count = movie_df.filter(col(column).isNull()).count()\n",
    "    null_counts[column] = null_count\n",
    "print(null_counts)"
   ]
  },
  {
   "cell_type": "code",
   "execution_count": 14,
   "metadata": {},
   "outputs": [],
   "source": [
    "link_df = spark.read.csv(\"link.csv\",header=True)"
   ]
  },
  {
   "cell_type": "code",
   "execution_count": 15,
   "metadata": {},
   "outputs": [
    {
     "name": "stdout",
     "output_type": "stream",
     "text": [
      "+-------+------+------+\n",
      "|movieId|imdbId|tmdbId|\n",
      "+-------+------+------+\n",
      "|      1|114709|   862|\n",
      "|      2|113497|  8844|\n",
      "|      3|113228| 15602|\n",
      "|      4|114885| 31357|\n",
      "|      5|113041| 11862|\n",
      "|      6|113277|   949|\n",
      "|      7|114319| 11860|\n",
      "|      8|112302| 45325|\n",
      "|      9|114576|  9091|\n",
      "|     10|113189|   710|\n",
      "|     11|112346|  9087|\n",
      "|     12|112896| 12110|\n",
      "|     13|112453| 21032|\n",
      "|     14|113987| 10858|\n",
      "|     15|112760|  1408|\n",
      "|     16|112641|   524|\n",
      "|     17|114388|  4584|\n",
      "|     18|113101|     5|\n",
      "|     19|112281|  9273|\n",
      "|     20|113845| 11517|\n",
      "+-------+------+------+\n",
      "only showing top 20 rows\n",
      "\n"
     ]
    }
   ],
   "source": [
    "link_df.show()"
   ]
  },
  {
   "cell_type": "code",
   "execution_count": 75,
   "metadata": {},
   "outputs": [
    {
     "name": "stdout",
     "output_type": "stream",
     "text": [
      "+-------+-----+\n",
      "|movieId|count|\n",
      "+-------+-----+\n",
      "+-------+-----+\n",
      "\n"
     ]
    }
   ],
   "source": [
    "link_df_dup = link_df.groupby('movieId').count().filter(col('count') > 1)\n",
    "link_df_dup.show()"
   ]
  },
  {
   "cell_type": "code",
   "execution_count": 76,
   "metadata": {},
   "outputs": [
    {
     "name": "stdout",
     "output_type": "stream",
     "text": [
      "{'movieId': 0, 'imdbId': 0, 'tmdbId': 252}\n"
     ]
    }
   ],
   "source": [
    "#check for nulls \n",
    "null_counts = {}\n",
    "for column in link_df.columns:\n",
    "    null_count = link_df.filter(col(column).isNull()).count()\n",
    "    null_counts[column] = null_count\n",
    "print(null_counts)"
   ]
  },
  {
   "cell_type": "code",
   "execution_count": 16,
   "metadata": {},
   "outputs": [],
   "source": [
    "genome_tags_df = spark.read.csv(\"genome_tags.csv\",header=True)"
   ]
  },
  {
   "cell_type": "code",
   "execution_count": 17,
   "metadata": {},
   "outputs": [
    {
     "name": "stdout",
     "output_type": "stream",
     "text": [
      "+-----+---------------+\n",
      "|tagId|            tag|\n",
      "+-----+---------------+\n",
      "|    1|            007|\n",
      "|    2|   007 (series)|\n",
      "|    3|   18th century|\n",
      "|    4|          1920s|\n",
      "|    5|          1930s|\n",
      "|    6|          1950s|\n",
      "|    7|          1960s|\n",
      "|    8|          1970s|\n",
      "|    9|          1980s|\n",
      "|   10|   19th century|\n",
      "|   11|             3d|\n",
      "|   12|           70mm|\n",
      "|   13|            80s|\n",
      "|   14|           9/11|\n",
      "|   15|        aardman|\n",
      "|   16|aardman studios|\n",
      "|   17|       abortion|\n",
      "|   18|         absurd|\n",
      "|   19|         action|\n",
      "|   20|  action packed|\n",
      "+-----+---------------+\n",
      "only showing top 20 rows\n",
      "\n"
     ]
    }
   ],
   "source": [
    "genome_tags_df.show()"
   ]
  },
  {
   "cell_type": "code",
   "execution_count": null,
   "metadata": {},
   "outputs": [
    {
     "name": "stdout",
     "output_type": "stream",
     "text": [
      "+-----+-----+\n",
      "|tagId|count|\n",
      "+-----+-----+\n",
      "+-----+-----+\n",
      "\n"
     ]
    }
   ],
   "source": [
    "#check for dups\n",
    "genome_tags_df_dup = genome_tags_df.groupby('tagId').count().filter(col('count')>1)\n",
    "genome_tags_df_dup.show()"
   ]
  },
  {
   "cell_type": "code",
   "execution_count": 78,
   "metadata": {},
   "outputs": [
    {
     "name": "stdout",
     "output_type": "stream",
     "text": [
      "{'tagId': 0, 'tag': 0}\n"
     ]
    }
   ],
   "source": [
    "null_counts = {}\n",
    "for column in genome_tags_df.columns:\n",
    "    null_count = genome_tags_df.filter(col(column).isNull()).count()\n",
    "    null_counts[column] = null_count\n",
    "print(null_counts)"
   ]
  },
  {
   "cell_type": "code",
   "execution_count": 18,
   "metadata": {},
   "outputs": [],
   "source": [
    "genome_scores_df = spark.read.csv(\"genome_scores.csv\",header=True)"
   ]
  },
  {
   "cell_type": "code",
   "execution_count": 19,
   "metadata": {},
   "outputs": [
    {
     "name": "stdout",
     "output_type": "stream",
     "text": [
      "+-------+-----+-------------------+\n",
      "|movieId|tagId|          relevance|\n",
      "+-------+-----+-------------------+\n",
      "|      1|    1|              0.025|\n",
      "|      1|    2|              0.025|\n",
      "|      1|    3|            0.05775|\n",
      "|      1|    4|            0.09675|\n",
      "|      1|    5|            0.14675|\n",
      "|      1|    6|              0.217|\n",
      "|      1|    7|              0.067|\n",
      "|      1|    8|            0.26275|\n",
      "|      1|    9|              0.262|\n",
      "|      1|   10|              0.032|\n",
      "|      1|   11|              0.577|\n",
      "|      1|   12|            0.11625|\n",
      "|      1|   13|              0.188|\n",
      "|      1|   14|0.00800000000000001|\n",
      "|      1|   15|            0.03675|\n",
      "|      1|   16|            0.28175|\n",
      "|      1|   17|0.00700000000000001|\n",
      "|      1|   18|             0.1105|\n",
      "|      1|   19|             0.6705|\n",
      "|      1|   20|             0.1845|\n",
      "+-------+-----+-------------------+\n",
      "only showing top 20 rows\n",
      "\n"
     ]
    }
   ],
   "source": [
    "genome_scores_df.show()"
   ]
  },
  {
   "cell_type": "code",
   "execution_count": 24,
   "metadata": {},
   "outputs": [],
   "source": [
    "df1 = rating_df.join(tag_df, (rating_df['userId'] == tag_df['userId']) & (rating_df['movieId'] == tag_df['movieId']),how='left').select(rating_df['userId'],rating_df['movieId'],tag_df['tag'])"
   ]
  },
  {
   "cell_type": "code",
   "execution_count": 79,
   "metadata": {},
   "outputs": [
    {
     "data": {
      "text/plain": [
       "20265625"
      ]
     },
     "execution_count": 79,
     "metadata": {},
     "output_type": "execute_result"
    }
   ],
   "source": [
    "df1.count()"
   ]
  },
  {
   "cell_type": "code",
   "execution_count": 80,
   "metadata": {},
   "outputs": [
    {
     "data": {
      "text/plain": [
       "20000263"
      ]
     },
     "execution_count": 80,
     "metadata": {},
     "output_type": "execute_result"
    }
   ],
   "source": [
    "rating_df.count()"
   ]
  },
  {
   "cell_type": "code",
   "execution_count": null,
   "metadata": {},
   "outputs": [],
   "source": [
    "#filtered_df1 = df1.filter(df1['tag'].isNotNull())"
   ]
  },
  {
   "cell_type": "code",
   "execution_count": 28,
   "metadata": {},
   "outputs": [],
   "source": [
    "#filtered_df1.show()"
   ]
  },
  {
   "cell_type": "code",
   "execution_count": 32,
   "metadata": {},
   "outputs": [],
   "source": [
    "df2 = df1.join(movie_df,df1['movieId'] == movie_df['movieId'], how='left').select(df1['userId'],df1.movieId,df1.tag,movie_df.title,movie_df.genres)"
   ]
  },
  {
   "cell_type": "code",
   "execution_count": 33,
   "metadata": {},
   "outputs": [
    {
     "name": "stdout",
     "output_type": "stream",
     "text": [
      "+------+-------+----+--------------------+--------------------+\n",
      "|userId|movieId| tag|               title|              genres|\n",
      "+------+-------+----+--------------------+--------------------+\n",
      "|     1|    919|NULL|Wizard of Oz, The...|Adventure|Childre...|\n",
      "|105081|   4306|NULL|        Shrek (2001)|Adventure|Animati...|\n",
      "|116465|   3100|NULL|River Runs Throug...|               Drama|\n",
      "| 11731|   3257|NULL|Bodyguard, The (1...|Drama|Romance|Thr...|\n",
      "| 11731|  58559|NULL|Dark Knight, The ...|Action|Crime|Dram...|\n",
      "| 11732|      1|NULL|    Toy Story (1995)|Adventure|Animati...|\n",
      "|127936|   2448|NULL|        Virus (1999)|       Horror|Sci-Fi|\n",
      "|127936|   2729|NULL|       Lolita (1962)|       Drama|Romance|\n",
      "|127936|   4718|NULL|American Pie 2 (2...|              Comedy|\n",
      "| 23312|   1484|NULL|Daytrippers, The ...|Comedy|Drama|Myst...|\n",
      "| 23312|   1617|NULL|L.A. Confidential...|Crime|Film-Noir|M...|\n",
      "| 23312|   2111|NULL|Man with Two Brai...|              Comedy|\n",
      "| 35001|   3354|NULL|Mission to Mars (...|              Sci-Fi|\n",
      "| 35001|   3676|NULL|   Eraserhead (1977)|        Drama|Horror|\n",
      "| 46736|   1204|NULL|Lawrence of Arabi...| Adventure|Drama|War|\n",
      "| 58552|  48780|NULL|Prestige, The (2006)|Drama|Mystery|Sci...|\n",
      "| 58552|  55765|NULL|American Gangster...|Crime|Drama|Thriller|\n",
      "| 70324|   2662|NULL|War of the Worlds...| Action|Drama|Sci-Fi|\n",
      "| 70324|   2738|NULL|Crimes of the Hea...|        Comedy|Drama|\n",
      "| 81744|   1285|NULL|     Heathers (1989)|              Comedy|\n",
      "+------+-------+----+--------------------+--------------------+\n",
      "only showing top 20 rows\n",
      "\n"
     ]
    }
   ],
   "source": [
    "df2.show()"
   ]
  },
  {
   "cell_type": "code",
   "execution_count": 81,
   "metadata": {},
   "outputs": [],
   "source": [
    "df3 = tag_df.join(genome_tags_df,tag_df.tag == genome_tags_df.tag,how='left')"
   ]
  },
  {
   "cell_type": "code",
   "execution_count": null,
   "metadata": {},
   "outputs": [
    {
     "name": "stdout",
     "output_type": "stream",
     "text": [
      "+------+-------+-----------------+-------------------+----------+-----+-----------------+\n",
      "|userId|movieId|              tag|          timestamp|  tag_date|tagId|              tag|\n",
      "+------+-------+-----------------+-------------------+----------+-----+-----------------+\n",
      "|    18|   4141|      Mark Waters|2009-04-24 18:19:40|2009-04-24| NULL|             NULL|\n",
      "|    65|    208|        dark hero|2013-05-10 01:41:18|2013-05-10|  288|        dark hero|\n",
      "|    65|    353|        dark hero|2013-05-10 01:41:19|2013-05-10|  288|        dark hero|\n",
      "|    65|    521|    noir thriller|2013-05-10 01:39:43|2013-05-10|  712|    noir thriller|\n",
      "|    65|    592|        dark hero|2013-05-10 01:41:18|2013-05-10|  288|        dark hero|\n",
      "|    65|    668|        bollywood|2013-05-10 01:37:56|2013-05-10|  149|        bollywood|\n",
      "|    65|    898| screwball comedy|2013-05-10 01:42:40|2013-05-10|  894| screwball comedy|\n",
      "|    65|   1248|    noir thriller|2013-05-10 01:39:43|2013-05-10|  712|    noir thriller|\n",
      "|    65|   1391|             mars|2013-05-10 01:40:55|2013-05-10|  630|             mars|\n",
      "|    65|   1617|         neo-noir|2013-05-10 01:43:37|2013-05-10|  700|         neo-noir|\n",
      "|    65|   1694|            jesus|2013-05-10 01:38:45|2013-05-10|  579|            jesus|\n",
      "|    65|   1783|    noir thriller|2013-05-10 01:39:43|2013-05-10|  712|    noir thriller|\n",
      "|    65|   2022|            jesus|2013-05-10 01:38:45|2013-05-10|  579|            jesus|\n",
      "|    65|   2193|           dragon|2013-05-10 02:01:54|2013-05-10|  321|           dragon|\n",
      "|    65|   2353|conspiracy theory|2013-05-10 02:01:06|2013-05-10|  252|conspiracy theory|\n",
      "|    65|   2662|             mars|2013-05-10 01:40:55|2013-05-10|  630|             mars|\n",
      "|    65|   2726|    noir thriller|2013-05-10 01:39:43|2013-05-10|  712|    noir thriller|\n",
      "|    65|   2840|            jesus|2013-05-10 01:38:45|2013-05-10|  579|            jesus|\n",
      "|    65|   3052|            jesus|2013-05-10 01:38:46|2013-05-10|  579|            jesus|\n",
      "|    65|   5135|        bollywood|2013-05-10 01:37:56|2013-05-10|  149|        bollywood|\n",
      "+------+-------+-----------------+-------------------+----------+-----+-----------------+\n",
      "only showing top 20 rows\n",
      "\n",
      "465564\n",
      "465564\n"
     ]
    }
   ],
   "source": [
    "df3.show()"
   ]
  },
  {
   "cell_type": "code",
   "execution_count": null,
   "metadata": {},
   "outputs": [],
   "source": []
  }
 ],
 "metadata": {
  "kernelspec": {
   "display_name": "pyspark_env",
   "language": "python",
   "name": "python3"
  },
  "language_info": {
   "codemirror_mode": {
    "name": "ipython",
    "version": 3
   },
   "file_extension": ".py",
   "mimetype": "text/x-python",
   "name": "python",
   "nbconvert_exporter": "python",
   "pygments_lexer": "ipython3",
   "version": "3.10.15"
  }
 },
 "nbformat": 4,
 "nbformat_minor": 2
}
