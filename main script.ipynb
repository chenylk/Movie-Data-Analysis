{
 "cells": [
  {
   "cell_type": "code",
   "execution_count": 2,
   "metadata": {},
   "outputs": [],
   "source": [
    "from pyspark.sql import SparkSession\n",
    "import os\n",
    "import sys\n",
    "#from config import API_KEY\n",
    "from datetime import datetime, timedelta\n",
    "import requests\n",
    "from pyspark.sql.types import StructType, StructField, StringType, FloatType, TimestampType, DateType, DoubleType, IntegerType\n",
    "import pandas as pd\n",
    "from pyspark.sql import Row\n",
    "from pyspark.sql.window import Window\n",
    "from pyspark.sql.functions import dense_rank, col, rank, avg, round, count, countDistinct, udf, when, lower\n",
    "from pyspark.sql import functions as F\n",
    "import sqlite3"
   ]
  },
  {
   "cell_type": "code",
   "execution_count": 3,
   "metadata": {},
   "outputs": [
    {
     "name": "stdout",
     "output_type": "stream",
     "text": [
      "JAVA_HOME: C:\\Program Files\\Java\\jdk-1.8\n",
      "PATH: c:\\Users\\lucas\\anaconda3\\envs\\pyspark_env;C:\\Users\\lucas\\anaconda3\\envs\\pyspark_env;C:\\Users\\lucas\\anaconda3\\envs\\pyspark_env\\Library\\mingw-w64\\bin;C:\\Users\\lucas\\anaconda3\\envs\\pyspark_env\\Library\\usr\\bin;C:\\Users\\lucas\\anaconda3\\envs\\pyspark_env\\Library\\bin;C:\\Users\\lucas\\anaconda3\\envs\\pyspark_env\\Scripts;C:\\Users\\lucas\\anaconda3\\envs\\pyspark_env\\bin;C:\\Users\\lucas\\anaconda3\\condabin;C:\\Users\\lucas\\anaconda3;C:\\Program Files (x86)\\Common Files\\Oracle\\Java\\java8path;C:\\Program Files (x86)\\Common Files\\Oracle\\Java\\javapath;C:\\Program Files\\NVIDIA GPU Computing Toolkit\\CUDA\\v11.8\\libnvvp;C:\\Program Files\\NVIDIA GPU Computing Toolkit\\CUDA\\v11.8\\bin;C:\\Program Files\\NVIDIA GPU Computing Toolkit\\CUDA\\v12.1\\bin;C:\\Program Files\\NVIDIA GPU Computing Toolkit\\CUDA\\v12.1\\libnvvp;C:\\Program Files\\NVIDIA GPU Computing Toolkit\\CUDA\\v12.6\\bin;C:\\Program Files\\NVIDIA GPU Computing Toolkit\\CUDA\\v12.6\\libnvvp;C:\\Program Files\\Rockwell Software\\RSCommon;C:\\Windows\\system32;C:\\Windows;C:\\Windows\\System32\\Wbem;C:\\Windows\\System32\\WindowsPowerShell\\v1.0;C:\\Windows\\System32\\OpenSSH;C:\\Program Files (x86)\\NVIDIA Corporation\\PhysX\\Common;C:\\Program Files\\NVIDIA Corporation\\NVIDIA NvDLISR;C:\\Program Files\\Git\\cmd;C:\\Program Files\\MongoDB\\Server\\4.4\\bin;C:\\Program Files\\dotnet;C:\\Program Files\\PuTTY;C:\\Program Files\\Amazon\\AWSCLIV2;C:\\Program Files\\Microsoft SQL Server\\Client SDK\\ODBC\\130\\Tools\\Binn;C:\\Program Files (x86)\\Microsoft SQL Server\\140\\Tools\\Binn;C:\\Program Files\\Microsoft SQL Server\\140\\Tools\\Binn;C:\\Program Files\\Microsoft SQL Server\\140\\DTS\\Binn;C:\\WINDOWS\\system32;C:\\WINDOWS;C:\\WINDOWS\\System32\\Wbem;C:\\WINDOWS\\System32\\WindowsPowerShell\\v1.0;C:\\WINDOWS\\System32\\OpenSSH;C:\\Program Files\\Docker\\Docker\\resources\\bin;C:\\Program Files\\MATLAB\\R2023a\\bin;C:\\Program Files\\Microsoft SQL Server\\150\\Tools\\Binn;C:\\Program Files\\Microsoft SQL Server\\Client SDK\\ODBC\\170\\Tools\\Binn;C:\\Program Files\\NVIDIA Corporation\\Nsight Compute 2023.1.1;C:\\Program Files\\Java\\jdk-1.8\\bin;C:\\Users\\lucas\\AppData\\Roaming\\TinyTeX\\bin\\win32;C:\\Program Files\\MySQL\\MySQL Shell 8.0\\bin;C:\\Users\\lucas\\AppData\\Local\\Microsoft\\WindowsApps;C:\\Users\\lucas\\AppData\\Local\\Programs\\Microsoft VS Code\\bin;C:\\Users\\lucas\\.dotnet\\tools;C:\\Users\\lucas\\AppData\\Local\\Programs\\MiKTeX\\miktex\\bin\\x64;C:\\Program Files\\NVIDIA GPU Computing Toolkit\\CUDA\\v11.8\\libnvvp;C:\\Program Files\\NVIDIA GPU Computing Toolkit\\CUDA\\v11.8\\bin;.\n",
      "JAVA_HOME: C:\\Program Files\\Java\\jdk-1.8\n"
     ]
    }
   ],
   "source": [
    "print(f\"JAVA_HOME: {os.environ.get('JAVA_HOME')}\")\n",
    "print(f\"PATH: {os.environ.get('PATH')}\")\n",
    "os.environ['JAVA_HOME'] = r'C:\\Program Files\\Java\\jdk-1.8'\n",
    "print(f\"JAVA_HOME: {os.environ.get('JAVA_HOME')}\")\n",
    "\n",
    "#os.environ[\"PYSPARK_PYTHON\"] = r\"C:\\Users\\lucas\\anaconda3\\python.exe\"\n",
    "#os.environ[\"PYSPARK_DRIVER_PYTHON\"] = r\"C:\\Users\\lucas\\anaconda3\\python.exe\""
   ]
  }
 ],
 "metadata": {
  "kernelspec": {
   "display_name": "pyspark_env",
   "language": "python",
   "name": "python3"
  },
  "language_info": {
   "codemirror_mode": {
    "name": "ipython",
    "version": 3
   },
   "file_extension": ".py",
   "mimetype": "text/x-python",
   "name": "python",
   "nbconvert_exporter": "python",
   "pygments_lexer": "ipython3",
   "version": "3.10.15"
  }
 },
 "nbformat": 4,
 "nbformat_minor": 2
}
